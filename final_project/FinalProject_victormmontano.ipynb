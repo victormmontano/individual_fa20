{
 "cells": [
  {
   "cell_type": "markdown",
   "metadata": {},
   "source": [
    "# COGS 108 - Final Project (Individual)"
   ]
  },
  {
   "cell_type": "markdown",
   "metadata": {},
   "source": [
    "# Overview"
   ]
  },
  {
   "cell_type": "markdown",
   "metadata": {},
   "source": [
    "In this project, I analyzed yelp data for San Diego parks and SANDAG estimates for population ethnicity to identify if there's a correlation in favorability by park goers and population ethnicities. I grouped the parks by zip codes and determined the ethnicity percentage of each zip code to visualize the difference in ethnicity proportions. In the end, I found that there is evidence to conclude that zip codes with higher percentage of white people had higher yelp ratings. "
   ]
  },
  {
   "cell_type": "markdown",
   "metadata": {},
   "source": [
    "# Name & GitHub ID¶\n"
   ]
  },
  {
   "cell_type": "markdown",
   "metadata": {},
   "source": [
    "- Name: Victor Montano\n",
    "- GitHub Username: victormmontano"
   ]
  },
  {
   "cell_type": "markdown",
   "metadata": {},
   "source": [
    "# Research Question"
   ]
  },
  {
   "cell_type": "markdown",
   "metadata": {},
   "source": [
    "Does the proportion of white people in the area correlate to the favorability of parks and recreation facilities in San Diego?"
   ]
  },
  {
   "cell_type": "markdown",
   "metadata": {},
   "source": [
    "# Background & Prior Work"
   ]
  },
  {
   "cell_type": "markdown",
   "metadata": {},
   "source": [
    "Every city in San Diego receives different amount of funding for creation and improvement of their parks based off of their city's budget as well as development impact fees, which are fees collected from the developers who build amenities (1 & 2). The city's overall budget depends on population size, where a higher population leads to more funding (5). This year, San Diego allocated 122.2 million dollars (8%) of its budget towards parks and recreation(3 & 4). The mayor of each city submits a budget proposal to the county and then decides how much to allocate for parks and recreation (6). The development impact fees are an addition to their budget. The fee in each city varies depending on development they expect and how much money they believe will be needed for future improvements (7). Representatives and citizens from low income neighborhoods have felt like there is a lack of equity because funds are not distributed according to each city's needs (8). Furthermore, analysts have found that there is a racial equity gap in San Diego resulting in less funding going to cities with less racial diversity (9). This can be tied to the disproportionate amount of non-white business owners, particularly within construction firms (10). If the data implies that there is a systemic lack of equity throughout the county, then the city needs to allocate more funds for parks that do not have the funds to address maintenance issues and create a new system where each city receives funding according to population to ensure all parks are kept clean and accessible.\n",
    "\n",
    "\n",
    "References (include links):\n",
    "- 1) https://www.sdparks.org/content/sdparks/en/AboutUs/Plans/pldo.html\n",
    "- 2) https://www.sdparks.org/content/dam/sdparks/en/pdf/Development/Park%20Lands%20Dedication%20Ordinance.pdf\n",
    "- 3) https://www.ppic.org/publication/the-state-city-fiscal-relationship-in-california/\n",
    "- 4) https://www.sandiego.gov/sites/default/files/legacy/iba/pdf/bpguide.pdf\n",
    "- 5) https://econofact.org/why-does-the-census-matter-for-state-and-local-governments\n",
    "- 6) https://www.sandiego.gov/sites/default/files/legacy/iba/pdf/bpguide.pdf\n",
    "- 7) https://www.sandiego.gov/sites/default/files/dsd_pc-20-018_cchs_and_mcp.pdf\n",
    "- 8) https://www.voiceofsandiego.org/topics/government/if-your-local-park-sucks-this-is-probably-why/\n",
    "- 9) https://workforce.org/news/san-diegos-racial-equity-gap-how-we-got-here/\n",
    "- 10) https://www.sandiego.gov/sites/default/files/2017-sdusd-construction-demographics-report.pdf"
   ]
  },
  {
   "cell_type": "markdown",
   "metadata": {},
   "source": [
    "# Hypothesis"
   ]
  },
  {
   "cell_type": "markdown",
   "metadata": {},
   "source": [
    "I hypothesize that neighborhoods with a higher proportion of white people will have higher park and recreation favorability because of the racial equity gap found in San Diego. Additionally, it is well known that implicit biases can influence business decisions and since the majority of construction firms are owned and managed by white people, it can be safe to assume that there is less development in areas with a lower amount of white people."
   ]
  },
  {
   "cell_type": "markdown",
   "metadata": {},
   "source": [
    "# Datasets"
   ]
  },
  {
   "cell_type": "markdown",
   "metadata": {},
   "source": [
    "- Dataset Name: Estimate 2019 Zip\n",
    "- Link to the dataset: https://github.com/victormmontano/individual_fa20/blob/master/final_project/estimate_2019_zip.xlsx\n",
    "- Number of observations: 9041\n",
    "\n",
    "The Estimate Zip dataset is from the San Diego Association of Governments (SANDAG) providing  estimates about ethnicities within the different zip code areas in San Diego over the past 10 years.\n",
    "\n",
    "- Dataset Name: yelp SD parks\n",
    "- Link to the dataset: https://github.com/victormmontano/individual_fa20/blob/master/final_project/yelp_SD_parks.csv\n",
    "- Number of observations: 834\n",
    "\n",
    "The yelp SD parks dataset is from Yelp, curated by Professor Ellis, with yelp information of parks and recreational faciliaties in San Diego including rating and location.\n",
    "\n",
    "I plan on combining both datasets by taking the average rating of each zip code from the yelp SD parks data and the proportion of ethnicities from the Estimate Zip data in the most recent year."
   ]
  },
  {
   "cell_type": "markdown",
   "metadata": {},
   "source": [
    "# Setup"
   ]
  },
  {
   "cell_type": "code",
   "execution_count": 66,
   "metadata": {},
   "outputs": [],
   "source": [
    "%matplotlib inline\n",
    "\n",
    "import numpy as np\n",
    "import pandas as pd\n",
    "import matplotlib.pyplot as plt\n",
    "\n",
    "import seaborn as sns\n",
    "sns.set()\n",
    "sns.set_context('talk')\n",
    "\n",
    "import warnings\n",
    "warnings.filterwarnings('ignore')\n",
    "\n",
    "import patsy\n",
    "import statsmodels.api as sm\n",
    "from scipy.stats import ttest_ind, chisquare, normaltest\n",
    "import scipy.stats as stats"
   ]
  },
  {
   "cell_type": "markdown",
   "metadata": {},
   "source": [
    "# Data Cleaning"
   ]
  },
  {
   "cell_type": "markdown",
   "metadata": {},
   "source": [
    "For the Yelp dataset, I filtered out the reviews of a city as a whole and reviews from Mexico. For both datasets, I extracted the zip code from the address. For the data that did not contain a zip code, I either them through a Google Maps search. The estimates 2019 dataset contained the ethnicities individually so I extracted their amounts and total population to make proportion columns for easier readability and analysis. The data is very clean since the values needed have finite categories and identifiable quantity ranges because yelp ratings are between 0 and 5 and the zip codes do not go out of the normal San Diego range. "
   ]
  },
  {
   "cell_type": "markdown",
   "metadata": {},
   "source": [
    "# Data Anaylsis & Results"
   ]
  },
  {
   "cell_type": "markdown",
   "metadata": {},
   "source": [
    "The yelp data is being read and stored"
   ]
  },
  {
   "cell_type": "code",
   "execution_count": 2,
   "metadata": {},
   "outputs": [
    {
     "data": {
      "text/html": [
       "<div>\n",
       "<style scoped>\n",
       "    .dataframe tbody tr th:only-of-type {\n",
       "        vertical-align: middle;\n",
       "    }\n",
       "\n",
       "    .dataframe tbody tr th {\n",
       "        vertical-align: top;\n",
       "    }\n",
       "\n",
       "    .dataframe thead th {\n",
       "        text-align: right;\n",
       "    }\n",
       "</style>\n",
       "<table border=\"1\" class=\"dataframe\">\n",
       "  <thead>\n",
       "    <tr style=\"text-align: right;\">\n",
       "      <th></th>\n",
       "      <th>name</th>\n",
       "      <th>address</th>\n",
       "      <th>phone</th>\n",
       "      <th>id</th>\n",
       "      <th>url</th>\n",
       "      <th>rating</th>\n",
       "      <th>review_count</th>\n",
       "      <th>longitude</th>\n",
       "      <th>latitude</th>\n",
       "      <th>is_closed</th>\n",
       "    </tr>\n",
       "  </thead>\n",
       "  <tbody>\n",
       "    <tr>\n",
       "      <th>0</th>\n",
       "      <td>Balboa Park</td>\n",
       "      <td>1549 El Prado San Diego, CA 92101</td>\n",
       "      <td>1.619239e+10</td>\n",
       "      <td>9M_FW_-Ipx93I36w-_ykBg</td>\n",
       "      <td>https://www.yelp.com/biz/balboa-park-san-diego...</td>\n",
       "      <td>5.0</td>\n",
       "      <td>2105</td>\n",
       "      <td>-117.153150</td>\n",
       "      <td>32.734502</td>\n",
       "      <td>False</td>\n",
       "    </tr>\n",
       "    <tr>\n",
       "      <th>1</th>\n",
       "      <td>Civita Park</td>\n",
       "      <td>7960 Civita Blvd San Diego, CA 92108</td>\n",
       "      <td>NaN</td>\n",
       "      <td>3AEHjqNrTmggA6G9VdhQfg</td>\n",
       "      <td>https://www.yelp.com/biz/civita-park-san-diego...</td>\n",
       "      <td>4.5</td>\n",
       "      <td>46</td>\n",
       "      <td>-117.147278</td>\n",
       "      <td>32.778315</td>\n",
       "      <td>False</td>\n",
       "    </tr>\n",
       "    <tr>\n",
       "      <th>2</th>\n",
       "      <td>Waterfront Park</td>\n",
       "      <td>1600 Pacific Hwy San Diego, CA 92101</td>\n",
       "      <td>1.619233e+10</td>\n",
       "      <td>3unbJeYrn1RmInZGmjp80g</td>\n",
       "      <td>https://www.yelp.com/biz/waterfront-park-san-d...</td>\n",
       "      <td>4.5</td>\n",
       "      <td>242</td>\n",
       "      <td>-117.172479</td>\n",
       "      <td>32.721952</td>\n",
       "      <td>False</td>\n",
       "    </tr>\n",
       "    <tr>\n",
       "      <th>3</th>\n",
       "      <td>Trolley Barn Park</td>\n",
       "      <td>Adams Ave And Florida St San Diego, CA 92116</td>\n",
       "      <td>NaN</td>\n",
       "      <td>PvHxIYrmaiFKdWUDTMDzcg</td>\n",
       "      <td>https://www.yelp.com/biz/trolley-barn-park-san...</td>\n",
       "      <td>4.5</td>\n",
       "      <td>102</td>\n",
       "      <td>-117.143789</td>\n",
       "      <td>32.762463</td>\n",
       "      <td>False</td>\n",
       "    </tr>\n",
       "    <tr>\n",
       "      <th>4</th>\n",
       "      <td>Bay View Park</td>\n",
       "      <td>413 1st St Coronado, CA 92118</td>\n",
       "      <td>NaN</td>\n",
       "      <td>6IF4VB9-fkv_F-LBvG8ppQ</td>\n",
       "      <td>https://www.yelp.com/biz/bay-view-park-coronad...</td>\n",
       "      <td>5.0</td>\n",
       "      <td>42</td>\n",
       "      <td>-117.178967</td>\n",
       "      <td>32.701785</td>\n",
       "      <td>False</td>\n",
       "    </tr>\n",
       "    <tr>\n",
       "      <th>...</th>\n",
       "      <td>...</td>\n",
       "      <td>...</td>\n",
       "      <td>...</td>\n",
       "      <td>...</td>\n",
       "      <td>...</td>\n",
       "      <td>...</td>\n",
       "      <td>...</td>\n",
       "      <td>...</td>\n",
       "      <td>...</td>\n",
       "      <td>...</td>\n",
       "    </tr>\n",
       "    <tr>\n",
       "      <th>828</th>\n",
       "      <td>Del Cerro - San Diego</td>\n",
       "      <td>San Diego, CA 92120</td>\n",
       "      <td>1.619287e+10</td>\n",
       "      <td>ggbc59hSsl6pxCGSN1QLQA</td>\n",
       "      <td>https://www.yelp.com/biz/del-cerro-san-diego-s...</td>\n",
       "      <td>4.5</td>\n",
       "      <td>12</td>\n",
       "      <td>-117.073524</td>\n",
       "      <td>32.792626</td>\n",
       "      <td>False</td>\n",
       "    </tr>\n",
       "    <tr>\n",
       "      <th>829</th>\n",
       "      <td>San Diego Metropolitan Transit System</td>\n",
       "      <td>1255 Imperial Ave Ste 1000 San Diego, CA 92101</td>\n",
       "      <td>1.619238e+10</td>\n",
       "      <td>c8jhIMcwSjWqBD7S-faKYg</td>\n",
       "      <td>https://www.yelp.com/biz/san-diego-metropolita...</td>\n",
       "      <td>2.5</td>\n",
       "      <td>268</td>\n",
       "      <td>-117.153400</td>\n",
       "      <td>32.705760</td>\n",
       "      <td>False</td>\n",
       "    </tr>\n",
       "    <tr>\n",
       "      <th>830</th>\n",
       "      <td>Petco Park</td>\n",
       "      <td>100 Park Blvd San Diego, CA 92101</td>\n",
       "      <td>1.619796e+10</td>\n",
       "      <td>HkgSbRLVMRHExsRkImIK5A</td>\n",
       "      <td>https://www.yelp.com/biz/petco-park-san-diego?...</td>\n",
       "      <td>4.0</td>\n",
       "      <td>1667</td>\n",
       "      <td>-117.157054</td>\n",
       "      <td>32.707246</td>\n",
       "      <td>False</td>\n",
       "    </tr>\n",
       "    <tr>\n",
       "      <th>831</th>\n",
       "      <td>Ann D. L'Heureux Memorial Dog Park</td>\n",
       "      <td>2700 Carlsbad Village Dr Carlsbad, CA 92008</td>\n",
       "      <td>1.760434e+10</td>\n",
       "      <td>wYGJ65iVMi74-3TylWxY0Q</td>\n",
       "      <td>https://www.yelp.com/biz/ann-d-l-heureux-memor...</td>\n",
       "      <td>3.0</td>\n",
       "      <td>50</td>\n",
       "      <td>-117.316419</td>\n",
       "      <td>33.171137</td>\n",
       "      <td>False</td>\n",
       "    </tr>\n",
       "    <tr>\n",
       "      <th>832</th>\n",
       "      <td>Fairbrook Farm</td>\n",
       "      <td>4949 S Mission Rd Fallbrook, CA 92028</td>\n",
       "      <td>1.760729e+10</td>\n",
       "      <td>l3ZIY78OBs6BfkMQifY28g</td>\n",
       "      <td>https://www.yelp.com/biz/fairbrook-farm-fallbr...</td>\n",
       "      <td>5.0</td>\n",
       "      <td>1</td>\n",
       "      <td>-117.227747</td>\n",
       "      <td>33.302164</td>\n",
       "      <td>False</td>\n",
       "    </tr>\n",
       "  </tbody>\n",
       "</table>\n",
       "<p>833 rows × 10 columns</p>\n",
       "</div>"
      ],
      "text/plain": [
       "                                      name  \\\n",
       "0                              Balboa Park   \n",
       "1                              Civita Park   \n",
       "2                          Waterfront Park   \n",
       "3                        Trolley Barn Park   \n",
       "4                            Bay View Park   \n",
       "..                                     ...   \n",
       "828                  Del Cerro - San Diego   \n",
       "829  San Diego Metropolitan Transit System   \n",
       "830                             Petco Park   \n",
       "831     Ann D. L'Heureux Memorial Dog Park   \n",
       "832                         Fairbrook Farm   \n",
       "\n",
       "                                            address         phone  \\\n",
       "0                 1549 El Prado San Diego, CA 92101  1.619239e+10   \n",
       "1              7960 Civita Blvd San Diego, CA 92108           NaN   \n",
       "2              1600 Pacific Hwy San Diego, CA 92101  1.619233e+10   \n",
       "3      Adams Ave And Florida St San Diego, CA 92116           NaN   \n",
       "4                     413 1st St Coronado, CA 92118           NaN   \n",
       "..                                              ...           ...   \n",
       "828                             San Diego, CA 92120  1.619287e+10   \n",
       "829  1255 Imperial Ave Ste 1000 San Diego, CA 92101  1.619238e+10   \n",
       "830               100 Park Blvd San Diego, CA 92101  1.619796e+10   \n",
       "831     2700 Carlsbad Village Dr Carlsbad, CA 92008  1.760434e+10   \n",
       "832           4949 S Mission Rd Fallbrook, CA 92028  1.760729e+10   \n",
       "\n",
       "                         id  \\\n",
       "0    9M_FW_-Ipx93I36w-_ykBg   \n",
       "1    3AEHjqNrTmggA6G9VdhQfg   \n",
       "2    3unbJeYrn1RmInZGmjp80g   \n",
       "3    PvHxIYrmaiFKdWUDTMDzcg   \n",
       "4    6IF4VB9-fkv_F-LBvG8ppQ   \n",
       "..                      ...   \n",
       "828  ggbc59hSsl6pxCGSN1QLQA   \n",
       "829  c8jhIMcwSjWqBD7S-faKYg   \n",
       "830  HkgSbRLVMRHExsRkImIK5A   \n",
       "831  wYGJ65iVMi74-3TylWxY0Q   \n",
       "832  l3ZIY78OBs6BfkMQifY28g   \n",
       "\n",
       "                                                   url  rating  review_count  \\\n",
       "0    https://www.yelp.com/biz/balboa-park-san-diego...     5.0          2105   \n",
       "1    https://www.yelp.com/biz/civita-park-san-diego...     4.5            46   \n",
       "2    https://www.yelp.com/biz/waterfront-park-san-d...     4.5           242   \n",
       "3    https://www.yelp.com/biz/trolley-barn-park-san...     4.5           102   \n",
       "4    https://www.yelp.com/biz/bay-view-park-coronad...     5.0            42   \n",
       "..                                                 ...     ...           ...   \n",
       "828  https://www.yelp.com/biz/del-cerro-san-diego-s...     4.5            12   \n",
       "829  https://www.yelp.com/biz/san-diego-metropolita...     2.5           268   \n",
       "830  https://www.yelp.com/biz/petco-park-san-diego?...     4.0          1667   \n",
       "831  https://www.yelp.com/biz/ann-d-l-heureux-memor...     3.0            50   \n",
       "832  https://www.yelp.com/biz/fairbrook-farm-fallbr...     5.0             1   \n",
       "\n",
       "      longitude   latitude  is_closed  \n",
       "0   -117.153150  32.734502      False  \n",
       "1   -117.147278  32.778315      False  \n",
       "2   -117.172479  32.721952      False  \n",
       "3   -117.143789  32.762463      False  \n",
       "4   -117.178967  32.701785      False  \n",
       "..          ...        ...        ...  \n",
       "828 -117.073524  32.792626      False  \n",
       "829 -117.153400  32.705760      False  \n",
       "830 -117.157054  32.707246      False  \n",
       "831 -117.316419  33.171137      False  \n",
       "832 -117.227747  33.302164      False  \n",
       "\n",
       "[833 rows x 10 columns]"
      ]
     },
     "execution_count": 2,
     "metadata": {},
     "output_type": "execute_result"
    }
   ],
   "source": [
    "yelpInfo = pd.read_csv(\"yelp_SD_parks.csv\")\n",
    "yelpInfo"
   ]
  },
  {
   "cell_type": "markdown",
   "metadata": {},
   "source": [
    "The code below filters the reviews that are for cities as a whole "
   ]
  },
  {
   "cell_type": "code",
   "execution_count": 3,
   "metadata": {},
   "outputs": [],
   "source": [
    "infoNames = list(yelpInfo['name'])\n",
    "cities = []\n",
    "for i in range(len(infoNames)):\n",
    "    city = infoNames[i].lower()\n",
    "    if('city of' in city):\n",
    "        cities.append(i)\n",
    "for i in cities:\n",
    "    yelpInfo = yelpInfo.drop(i)"
   ]
  },
  {
   "cell_type": "markdown",
   "metadata": {},
   "source": [
    "The code below removes the unnecessary information for this analysis to make the data frames more readable"
   ]
  },
  {
   "cell_type": "code",
   "execution_count": 4,
   "metadata": {},
   "outputs": [
    {
     "data": {
      "text/html": [
       "<div>\n",
       "<style scoped>\n",
       "    .dataframe tbody tr th:only-of-type {\n",
       "        vertical-align: middle;\n",
       "    }\n",
       "\n",
       "    .dataframe tbody tr th {\n",
       "        vertical-align: top;\n",
       "    }\n",
       "\n",
       "    .dataframe thead th {\n",
       "        text-align: right;\n",
       "    }\n",
       "</style>\n",
       "<table border=\"1\" class=\"dataframe\">\n",
       "  <thead>\n",
       "    <tr style=\"text-align: right;\">\n",
       "      <th></th>\n",
       "      <th>name</th>\n",
       "      <th>address</th>\n",
       "      <th>rating</th>\n",
       "      <th>review_count</th>\n",
       "    </tr>\n",
       "  </thead>\n",
       "  <tbody>\n",
       "    <tr>\n",
       "      <th>0</th>\n",
       "      <td>Balboa Park</td>\n",
       "      <td>1549 El Prado San Diego, CA 92101</td>\n",
       "      <td>5.0</td>\n",
       "      <td>2105</td>\n",
       "    </tr>\n",
       "    <tr>\n",
       "      <th>1</th>\n",
       "      <td>Civita Park</td>\n",
       "      <td>7960 Civita Blvd San Diego, CA 92108</td>\n",
       "      <td>4.5</td>\n",
       "      <td>46</td>\n",
       "    </tr>\n",
       "    <tr>\n",
       "      <th>2</th>\n",
       "      <td>Waterfront Park</td>\n",
       "      <td>1600 Pacific Hwy San Diego, CA 92101</td>\n",
       "      <td>4.5</td>\n",
       "      <td>242</td>\n",
       "    </tr>\n",
       "    <tr>\n",
       "      <th>3</th>\n",
       "      <td>Trolley Barn Park</td>\n",
       "      <td>Adams Ave And Florida St San Diego, CA 92116</td>\n",
       "      <td>4.5</td>\n",
       "      <td>102</td>\n",
       "    </tr>\n",
       "    <tr>\n",
       "      <th>4</th>\n",
       "      <td>Bay View Park</td>\n",
       "      <td>413 1st St Coronado, CA 92118</td>\n",
       "      <td>5.0</td>\n",
       "      <td>42</td>\n",
       "    </tr>\n",
       "    <tr>\n",
       "      <th>...</th>\n",
       "      <td>...</td>\n",
       "      <td>...</td>\n",
       "      <td>...</td>\n",
       "      <td>...</td>\n",
       "    </tr>\n",
       "    <tr>\n",
       "      <th>825</th>\n",
       "      <td>Del Cerro - San Diego</td>\n",
       "      <td>San Diego, CA 92120</td>\n",
       "      <td>4.5</td>\n",
       "      <td>12</td>\n",
       "    </tr>\n",
       "    <tr>\n",
       "      <th>826</th>\n",
       "      <td>San Diego Metropolitan Transit System</td>\n",
       "      <td>1255 Imperial Ave Ste 1000 San Diego, CA 92101</td>\n",
       "      <td>2.5</td>\n",
       "      <td>268</td>\n",
       "    </tr>\n",
       "    <tr>\n",
       "      <th>827</th>\n",
       "      <td>Petco Park</td>\n",
       "      <td>100 Park Blvd San Diego, CA 92101</td>\n",
       "      <td>4.0</td>\n",
       "      <td>1667</td>\n",
       "    </tr>\n",
       "    <tr>\n",
       "      <th>828</th>\n",
       "      <td>Ann D. L'Heureux Memorial Dog Park</td>\n",
       "      <td>2700 Carlsbad Village Dr Carlsbad, CA 92008</td>\n",
       "      <td>3.0</td>\n",
       "      <td>50</td>\n",
       "    </tr>\n",
       "    <tr>\n",
       "      <th>829</th>\n",
       "      <td>Fairbrook Farm</td>\n",
       "      <td>4949 S Mission Rd Fallbrook, CA 92028</td>\n",
       "      <td>5.0</td>\n",
       "      <td>1</td>\n",
       "    </tr>\n",
       "  </tbody>\n",
       "</table>\n",
       "<p>830 rows × 4 columns</p>\n",
       "</div>"
      ],
      "text/plain": [
       "                                      name  \\\n",
       "0                              Balboa Park   \n",
       "1                              Civita Park   \n",
       "2                          Waterfront Park   \n",
       "3                        Trolley Barn Park   \n",
       "4                            Bay View Park   \n",
       "..                                     ...   \n",
       "825                  Del Cerro - San Diego   \n",
       "826  San Diego Metropolitan Transit System   \n",
       "827                             Petco Park   \n",
       "828     Ann D. L'Heureux Memorial Dog Park   \n",
       "829                         Fairbrook Farm   \n",
       "\n",
       "                                            address  rating  review_count  \n",
       "0                 1549 El Prado San Diego, CA 92101     5.0          2105  \n",
       "1              7960 Civita Blvd San Diego, CA 92108     4.5            46  \n",
       "2              1600 Pacific Hwy San Diego, CA 92101     4.5           242  \n",
       "3      Adams Ave And Florida St San Diego, CA 92116     4.5           102  \n",
       "4                     413 1st St Coronado, CA 92118     5.0            42  \n",
       "..                                              ...     ...           ...  \n",
       "825                             San Diego, CA 92120     4.5            12  \n",
       "826  1255 Imperial Ave Ste 1000 San Diego, CA 92101     2.5           268  \n",
       "827               100 Park Blvd San Diego, CA 92101     4.0          1667  \n",
       "828     2700 Carlsbad Village Dr Carlsbad, CA 92008     3.0            50  \n",
       "829           4949 S Mission Rd Fallbrook, CA 92028     5.0             1  \n",
       "\n",
       "[830 rows x 4 columns]"
      ]
     },
     "execution_count": 4,
     "metadata": {},
     "output_type": "execute_result"
    }
   ],
   "source": [
    "yelpInfo = yelpInfo.drop(columns=['phone', 'id', 'url', 'longitude', 'latitude', 'is_closed'])\n",
    "yelpInfo = yelpInfo.reset_index(drop = True)\n",
    "yelpInfo"
   ]
  },
  {
   "cell_type": "markdown",
   "metadata": {},
   "source": [
    "The following function will extract zip codes from the addresses column"
   ]
  },
  {
   "cell_type": "code",
   "execution_count": 5,
   "metadata": {},
   "outputs": [],
   "source": [
    "def extract_zip(address):\n",
    "    i = address.index('CA', len(address)-8)\n",
    "    return address[i+3:]"
   ]
  },
  {
   "cell_type": "markdown",
   "metadata": {},
   "source": [
    "Here the zip codes are being determined and printing out the addresses that do not contain a zip code to determine whether it should be ommitted or if the zip code can be found online"
   ]
  },
  {
   "cell_type": "code",
   "execution_count": 6,
   "metadata": {},
   "outputs": [
    {
     "name": "stdout",
     "output_type": "stream",
     "text": [
      "San Diego, CA\n",
      "Av. Revolución S/N Col. Centro 22000 Tijuana, Baja California Mexico\n",
      "Carrillo Puerto y o Tercera Col. Zona Centro 22000 Tijuana, Baja California Mexico\n",
      "Carmel Valley Rd San Diego, CA\n"
     ]
    }
   ],
   "source": [
    "infoAddress = list(yelpInfo['address']) \n",
    "zipCodes = []\n",
    "for address in infoAddress:\n",
    "    try:\n",
    "        zipCodes.append(int(extract_zip(address)))\n",
    "    except:\n",
    "        print(address)\n",
    "        zipCodes.append(0)"
   ]
  },
  {
   "cell_type": "markdown",
   "metadata": {},
   "source": [
    "Here we find the names of the United States locations that did not include a zip code and adding it "
   ]
  },
  {
   "cell_type": "code",
   "execution_count": 7,
   "metadata": {},
   "outputs": [
    {
     "name": "stdout",
     "output_type": "stream",
     "text": [
      "224\n",
      "744\n",
      "San Diego River Bike Path\n",
      "California Creative Kids\n"
     ]
    }
   ],
   "source": [
    "print(infoAddress.index(\"San Diego, CA\"))\n",
    "print(infoAddress.index(\"Carmel Valley Rd San Diego, CA\"))\n",
    "print(infoNames[224])\n",
    "print(infoNames[744])\n",
    "zipCodes[224] = 92114\n",
    "zipCodes[744] = 92129"
   ]
  },
  {
   "cell_type": "markdown",
   "metadata": {},
   "source": [
    "I am adding the zip code data as a column for further analysis"
   ]
  },
  {
   "cell_type": "code",
   "execution_count": 8,
   "metadata": {},
   "outputs": [],
   "source": [
    "yelpInfo['zip codes'] = zipCodes"
   ]
  },
  {
   "cell_type": "markdown",
   "metadata": {},
   "source": [
    "The following is grouping the ratings by zip codes"
   ]
  },
  {
   "cell_type": "code",
   "execution_count": 9,
   "metadata": {},
   "outputs": [],
   "source": [
    "sumZipCodes = []\n",
    "sumRating = []\n",
    "sumCount  = []\n",
    "for i in range(len(yelpInfo)):\n",
    "    tZipCode = yelpInfo.loc[i]['zip codes']\n",
    "    tRating = yelpInfo.loc[i]['rating']\n",
    "    tCount = yelpInfo.loc[i]['review_count']\n",
    "    if(tZipCode not in sumZipCodes):\n",
    "        sumZipCodes.append(tZipCode)\n",
    "        sumRating.append(tRating)\n",
    "        sumCount.append(tCount)\n",
    "    else:\n",
    "        ind = sumZipCodes.index(tZipCode)\n",
    "        currRating = sumRating[ind]\n",
    "        currCount = sumCount[ind]\n",
    "        newRating = (currRating*currCount + tRating*tCount)/(currCount + tCount)\n",
    "        sumRating[ind] = newRating\n",
    "        sumCount[ind] = currCount + tCount"
   ]
  },
  {
   "cell_type": "markdown",
   "metadata": {},
   "source": [
    "The remaining data that does not include a zip code is filtered below"
   ]
  },
  {
   "cell_type": "code",
   "execution_count": 10,
   "metadata": {},
   "outputs": [],
   "source": [
    "zeroIndex = sumZipCodes.index(0)\n",
    "del sumZipCodes[zeroIndex]\n",
    "del sumRating[zeroIndex]\n",
    "del sumCount[zeroIndex]"
   ]
  },
  {
   "cell_type": "markdown",
   "metadata": {},
   "source": [
    "I am putting all the newly organized data together into a data frame"
   ]
  },
  {
   "cell_type": "code",
   "execution_count": 11,
   "metadata": {},
   "outputs": [],
   "source": [
    "finalYelpRating = pd.DataFrame(list(zip(sumZipCodes, sumRating, sumCount)), \n",
    "               columns =['zip code', 'rating', 'count']) "
   ]
  },
  {
   "cell_type": "code",
   "execution_count": 12,
   "metadata": {},
   "outputs": [
    {
     "data": {
      "text/html": [
       "<div>\n",
       "<style scoped>\n",
       "    .dataframe tbody tr th:only-of-type {\n",
       "        vertical-align: middle;\n",
       "    }\n",
       "\n",
       "    .dataframe tbody tr th {\n",
       "        vertical-align: top;\n",
       "    }\n",
       "\n",
       "    .dataframe thead th {\n",
       "        text-align: right;\n",
       "    }\n",
       "</style>\n",
       "<table border=\"1\" class=\"dataframe\">\n",
       "  <thead>\n",
       "    <tr style=\"text-align: right;\">\n",
       "      <th></th>\n",
       "      <th>zip code</th>\n",
       "      <th>rating</th>\n",
       "      <th>count</th>\n",
       "    </tr>\n",
       "  </thead>\n",
       "  <tbody>\n",
       "    <tr>\n",
       "      <th>0</th>\n",
       "      <td>92101</td>\n",
       "      <td>4.065277</td>\n",
       "      <td>50102</td>\n",
       "    </tr>\n",
       "    <tr>\n",
       "      <th>1</th>\n",
       "      <td>92108</td>\n",
       "      <td>3.498595</td>\n",
       "      <td>3559</td>\n",
       "    </tr>\n",
       "    <tr>\n",
       "      <th>2</th>\n",
       "      <td>92116</td>\n",
       "      <td>4.234287</td>\n",
       "      <td>6189</td>\n",
       "    </tr>\n",
       "    <tr>\n",
       "      <th>3</th>\n",
       "      <td>92118</td>\n",
       "      <td>4.377688</td>\n",
       "      <td>1488</td>\n",
       "    </tr>\n",
       "    <tr>\n",
       "      <th>4</th>\n",
       "      <td>92123</td>\n",
       "      <td>3.495726</td>\n",
       "      <td>702</td>\n",
       "    </tr>\n",
       "    <tr>\n",
       "      <th>...</th>\n",
       "      <td>...</td>\n",
       "      <td>...</td>\n",
       "      <td>...</td>\n",
       "    </tr>\n",
       "    <tr>\n",
       "      <th>100</th>\n",
       "      <td>92019</td>\n",
       "      <td>4.500000</td>\n",
       "      <td>47</td>\n",
       "    </tr>\n",
       "    <tr>\n",
       "      <th>101</th>\n",
       "      <td>91765</td>\n",
       "      <td>4.500000</td>\n",
       "      <td>137</td>\n",
       "    </tr>\n",
       "    <tr>\n",
       "      <th>102</th>\n",
       "      <td>92004</td>\n",
       "      <td>5.000000</td>\n",
       "      <td>3</td>\n",
       "    </tr>\n",
       "    <tr>\n",
       "      <th>103</th>\n",
       "      <td>91763</td>\n",
       "      <td>5.000000</td>\n",
       "      <td>1</td>\n",
       "    </tr>\n",
       "    <tr>\n",
       "      <th>104</th>\n",
       "      <td>92028</td>\n",
       "      <td>5.000000</td>\n",
       "      <td>1</td>\n",
       "    </tr>\n",
       "  </tbody>\n",
       "</table>\n",
       "<p>105 rows × 3 columns</p>\n",
       "</div>"
      ],
      "text/plain": [
       "     zip code    rating  count\n",
       "0       92101  4.065277  50102\n",
       "1       92108  3.498595   3559\n",
       "2       92116  4.234287   6189\n",
       "3       92118  4.377688   1488\n",
       "4       92123  3.495726    702\n",
       "..        ...       ...    ...\n",
       "100     92019  4.500000     47\n",
       "101     91765  4.500000    137\n",
       "102     92004  5.000000      3\n",
       "103     91763  5.000000      1\n",
       "104     92028  5.000000      1\n",
       "\n",
       "[105 rows x 3 columns]"
      ]
     },
     "execution_count": 12,
     "metadata": {},
     "output_type": "execute_result"
    }
   ],
   "source": [
    "finalYelpRating"
   ]
  },
  {
   "cell_type": "markdown",
   "metadata": {},
   "source": [
    "Here is a quick look at the data. Outliers are not being considered at the moment because they can be correlated to ethnicity differences"
   ]
  },
  {
   "cell_type": "code",
   "execution_count": 13,
   "metadata": {},
   "outputs": [
    {
     "data": {
      "text/html": [
       "<div>\n",
       "<style scoped>\n",
       "    .dataframe tbody tr th:only-of-type {\n",
       "        vertical-align: middle;\n",
       "    }\n",
       "\n",
       "    .dataframe tbody tr th {\n",
       "        vertical-align: top;\n",
       "    }\n",
       "\n",
       "    .dataframe thead th {\n",
       "        text-align: right;\n",
       "    }\n",
       "</style>\n",
       "<table border=\"1\" class=\"dataframe\">\n",
       "  <thead>\n",
       "    <tr style=\"text-align: right;\">\n",
       "      <th></th>\n",
       "      <th>zip code</th>\n",
       "      <th>rating</th>\n",
       "      <th>count</th>\n",
       "    </tr>\n",
       "  </thead>\n",
       "  <tbody>\n",
       "    <tr>\n",
       "      <th>count</th>\n",
       "      <td>105.000000</td>\n",
       "      <td>105.000000</td>\n",
       "      <td>105.000000</td>\n",
       "    </tr>\n",
       "    <tr>\n",
       "      <th>mean</th>\n",
       "      <td>92039.771429</td>\n",
       "      <td>4.013821</td>\n",
       "      <td>1594.209524</td>\n",
       "    </tr>\n",
       "    <tr>\n",
       "      <th>std</th>\n",
       "      <td>383.201425</td>\n",
       "      <td>0.679051</td>\n",
       "      <td>5645.543194</td>\n",
       "    </tr>\n",
       "    <tr>\n",
       "      <th>min</th>\n",
       "      <td>90069.000000</td>\n",
       "      <td>1.000000</td>\n",
       "      <td>1.000000</td>\n",
       "    </tr>\n",
       "    <tr>\n",
       "      <th>25%</th>\n",
       "      <td>92014.000000</td>\n",
       "      <td>3.686957</td>\n",
       "      <td>26.000000</td>\n",
       "    </tr>\n",
       "    <tr>\n",
       "      <th>50%</th>\n",
       "      <td>92083.000000</td>\n",
       "      <td>4.057143</td>\n",
       "      <td>174.000000</td>\n",
       "    </tr>\n",
       "    <tr>\n",
       "      <th>75%</th>\n",
       "      <td>92126.000000</td>\n",
       "      <td>4.458678</td>\n",
       "      <td>631.000000</td>\n",
       "    </tr>\n",
       "    <tr>\n",
       "      <th>max</th>\n",
       "      <td>92879.000000</td>\n",
       "      <td>5.000000</td>\n",
       "      <td>50102.000000</td>\n",
       "    </tr>\n",
       "  </tbody>\n",
       "</table>\n",
       "</div>"
      ],
      "text/plain": [
       "           zip code      rating         count\n",
       "count    105.000000  105.000000    105.000000\n",
       "mean   92039.771429    4.013821   1594.209524\n",
       "std      383.201425    0.679051   5645.543194\n",
       "min    90069.000000    1.000000      1.000000\n",
       "25%    92014.000000    3.686957     26.000000\n",
       "50%    92083.000000    4.057143    174.000000\n",
       "75%    92126.000000    4.458678    631.000000\n",
       "max    92879.000000    5.000000  50102.000000"
      ]
     },
     "execution_count": 13,
     "metadata": {},
     "output_type": "execute_result"
    }
   ],
   "source": [
    "finalYelpRating.describe()"
   ]
  },
  {
   "cell_type": "markdown",
   "metadata": {},
   "source": [
    "The estimate data is read and stored:"
   ]
  },
  {
   "cell_type": "code",
   "execution_count": 14,
   "metadata": {},
   "outputs": [],
   "source": [
    "ethnicityData = pd.read_excel(\"estimate_2019_zip.xlsx\", \"Ethnicity\")"
   ]
  },
  {
   "cell_type": "markdown",
   "metadata": {},
   "source": [
    "The data is filtered to only include the most recent year, 2019:"
   ]
  },
  {
   "cell_type": "code",
   "execution_count": 15,
   "metadata": {},
   "outputs": [],
   "source": [
    "ethnicity2019 = ethnicityData[ethnicityData['YEAR'] == 2019]"
   ]
  },
  {
   "cell_type": "markdown",
   "metadata": {},
   "source": [
    "The data is being filtered below to group by zip codes and calculate the total population of each zip code:"
   ]
  },
  {
   "cell_type": "code",
   "execution_count": 16,
   "metadata": {},
   "outputs": [],
   "source": [
    "zip2019 = []\n",
    "totalPop = []\n",
    "list2019 = list(ethnicity2019['ZIP'])\n",
    "listPop = list(ethnicity2019['POPULATION'])\n",
    "for i in range(len(list2019)):\n",
    "    zc = list2019[i]\n",
    "    pop = listPop[i]\n",
    "    if(zc not in zip2019):\n",
    "        zip2019.append(zc)\n",
    "        totalPop.append(pop)\n",
    "    else:\n",
    "        ind = zip2019.index(zc)\n",
    "        currPop = totalPop[ind]\n",
    "        totalPop[ind] = currPop + pop\n",
    "\n"
   ]
  },
  {
   "cell_type": "markdown",
   "metadata": {},
   "source": [
    "The data is being duplicated according to the different number of ethnicities to easily add to the existing data frame"
   ]
  },
  {
   "cell_type": "code",
   "execution_count": 17,
   "metadata": {},
   "outputs": [
    {
     "data": {
      "text/html": [
       "<div>\n",
       "<style scoped>\n",
       "    .dataframe tbody tr th:only-of-type {\n",
       "        vertical-align: middle;\n",
       "    }\n",
       "\n",
       "    .dataframe tbody tr th {\n",
       "        vertical-align: top;\n",
       "    }\n",
       "\n",
       "    .dataframe thead th {\n",
       "        text-align: right;\n",
       "    }\n",
       "</style>\n",
       "<table border=\"1\" class=\"dataframe\">\n",
       "  <thead>\n",
       "    <tr style=\"text-align: right;\">\n",
       "      <th></th>\n",
       "      <th>ZIP</th>\n",
       "      <th>YEAR</th>\n",
       "      <th>ETHNICITY</th>\n",
       "      <th>POPULATION</th>\n",
       "      <th>Zip Code Population</th>\n",
       "    </tr>\n",
       "  </thead>\n",
       "  <tbody>\n",
       "    <tr>\n",
       "      <th>0</th>\n",
       "      <td>91901</td>\n",
       "      <td>2019</td>\n",
       "      <td>American Indian</td>\n",
       "      <td>159</td>\n",
       "      <td>17873</td>\n",
       "    </tr>\n",
       "    <tr>\n",
       "      <th>1</th>\n",
       "      <td>91901</td>\n",
       "      <td>2019</td>\n",
       "      <td>Asian</td>\n",
       "      <td>711</td>\n",
       "      <td>17873</td>\n",
       "    </tr>\n",
       "    <tr>\n",
       "      <th>2</th>\n",
       "      <td>91901</td>\n",
       "      <td>2019</td>\n",
       "      <td>Black</td>\n",
       "      <td>266</td>\n",
       "      <td>17873</td>\n",
       "    </tr>\n",
       "    <tr>\n",
       "      <th>3</th>\n",
       "      <td>91901</td>\n",
       "      <td>2019</td>\n",
       "      <td>Hispanic</td>\n",
       "      <td>2947</td>\n",
       "      <td>17873</td>\n",
       "    </tr>\n",
       "    <tr>\n",
       "      <th>4</th>\n",
       "      <td>91901</td>\n",
       "      <td>2019</td>\n",
       "      <td>Other</td>\n",
       "      <td>40</td>\n",
       "      <td>17873</td>\n",
       "    </tr>\n",
       "    <tr>\n",
       "      <th>...</th>\n",
       "      <td>...</td>\n",
       "      <td>...</td>\n",
       "      <td>...</td>\n",
       "      <td>...</td>\n",
       "      <td>...</td>\n",
       "    </tr>\n",
       "    <tr>\n",
       "      <th>899</th>\n",
       "      <td>92672</td>\n",
       "      <td>2019</td>\n",
       "      <td>Hispanic</td>\n",
       "      <td>1465</td>\n",
       "      <td>4634</td>\n",
       "    </tr>\n",
       "    <tr>\n",
       "      <th>900</th>\n",
       "      <td>92672</td>\n",
       "      <td>2019</td>\n",
       "      <td>Other</td>\n",
       "      <td>8</td>\n",
       "      <td>4634</td>\n",
       "    </tr>\n",
       "    <tr>\n",
       "      <th>901</th>\n",
       "      <td>92672</td>\n",
       "      <td>2019</td>\n",
       "      <td>Pacific Islander</td>\n",
       "      <td>21</td>\n",
       "      <td>4634</td>\n",
       "    </tr>\n",
       "    <tr>\n",
       "      <th>902</th>\n",
       "      <td>92672</td>\n",
       "      <td>2019</td>\n",
       "      <td>Two or More</td>\n",
       "      <td>179</td>\n",
       "      <td>4634</td>\n",
       "    </tr>\n",
       "    <tr>\n",
       "      <th>903</th>\n",
       "      <td>92672</td>\n",
       "      <td>2019</td>\n",
       "      <td>White</td>\n",
       "      <td>2332</td>\n",
       "      <td>4634</td>\n",
       "    </tr>\n",
       "  </tbody>\n",
       "</table>\n",
       "<p>904 rows × 5 columns</p>\n",
       "</div>"
      ],
      "text/plain": [
       "       ZIP  YEAR         ETHNICITY  POPULATION  Zip Code Population\n",
       "0    91901  2019   American Indian         159                17873\n",
       "1    91901  2019             Asian         711                17873\n",
       "2    91901  2019             Black         266                17873\n",
       "3    91901  2019          Hispanic        2947                17873\n",
       "4    91901  2019             Other          40                17873\n",
       "..     ...   ...               ...         ...                  ...\n",
       "899  92672  2019          Hispanic        1465                 4634\n",
       "900  92672  2019             Other           8                 4634\n",
       "901  92672  2019  Pacific Islander          21                 4634\n",
       "902  92672  2019       Two or More         179                 4634\n",
       "903  92672  2019             White        2332                 4634\n",
       "\n",
       "[904 rows x 5 columns]"
      ]
     },
     "execution_count": 17,
     "metadata": {},
     "output_type": "execute_result"
    }
   ],
   "source": [
    "matchPop = []\n",
    "for i in totalPop:\n",
    "    for j in range(8):\n",
    "        matchPop.append(i)\n",
    "ethnicity2019['Zip Code Population'] = matchPop\n",
    "ethnicity2019.reset_index(inplace=True, drop=True)\n",
    "ethnicity2019"
   ]
  },
  {
   "cell_type": "markdown",
   "metadata": {},
   "source": [
    "The yelp ratings from the previous set are added that exist within this dataset"
   ]
  },
  {
   "cell_type": "code",
   "execution_count": 18,
   "metadata": {},
   "outputs": [
    {
     "data": {
      "text/html": [
       "<div>\n",
       "<style scoped>\n",
       "    .dataframe tbody tr th:only-of-type {\n",
       "        vertical-align: middle;\n",
       "    }\n",
       "\n",
       "    .dataframe tbody tr th {\n",
       "        vertical-align: top;\n",
       "    }\n",
       "\n",
       "    .dataframe thead th {\n",
       "        text-align: right;\n",
       "    }\n",
       "</style>\n",
       "<table border=\"1\" class=\"dataframe\">\n",
       "  <thead>\n",
       "    <tr style=\"text-align: right;\">\n",
       "      <th></th>\n",
       "      <th>ZIP</th>\n",
       "      <th>YEAR</th>\n",
       "      <th>ETHNICITY</th>\n",
       "      <th>POPULATION</th>\n",
       "      <th>Zip Code Population</th>\n",
       "      <th>ETHNICITY PERCENTAGE</th>\n",
       "      <th>YELP RATING</th>\n",
       "      <th>YELP COUNT</th>\n",
       "    </tr>\n",
       "  </thead>\n",
       "  <tbody>\n",
       "    <tr>\n",
       "      <th>0</th>\n",
       "      <td>91902</td>\n",
       "      <td>2019</td>\n",
       "      <td>American Indian</td>\n",
       "      <td>62</td>\n",
       "      <td>17656</td>\n",
       "      <td>0.003512</td>\n",
       "      <td>4.087302</td>\n",
       "      <td>252</td>\n",
       "    </tr>\n",
       "    <tr>\n",
       "      <th>1</th>\n",
       "      <td>91902</td>\n",
       "      <td>2019</td>\n",
       "      <td>Asian</td>\n",
       "      <td>2821</td>\n",
       "      <td>17656</td>\n",
       "      <td>0.159776</td>\n",
       "      <td>4.087302</td>\n",
       "      <td>252</td>\n",
       "    </tr>\n",
       "    <tr>\n",
       "      <th>2</th>\n",
       "      <td>91902</td>\n",
       "      <td>2019</td>\n",
       "      <td>Black</td>\n",
       "      <td>650</td>\n",
       "      <td>17656</td>\n",
       "      <td>0.036815</td>\n",
       "      <td>4.087302</td>\n",
       "      <td>252</td>\n",
       "    </tr>\n",
       "    <tr>\n",
       "      <th>3</th>\n",
       "      <td>91902</td>\n",
       "      <td>2019</td>\n",
       "      <td>Hispanic</td>\n",
       "      <td>8681</td>\n",
       "      <td>17656</td>\n",
       "      <td>0.491674</td>\n",
       "      <td>4.087302</td>\n",
       "      <td>252</td>\n",
       "    </tr>\n",
       "    <tr>\n",
       "      <th>4</th>\n",
       "      <td>91902</td>\n",
       "      <td>2019</td>\n",
       "      <td>Other</td>\n",
       "      <td>23</td>\n",
       "      <td>17656</td>\n",
       "      <td>0.001303</td>\n",
       "      <td>4.087302</td>\n",
       "      <td>252</td>\n",
       "    </tr>\n",
       "  </tbody>\n",
       "</table>\n",
       "</div>"
      ],
      "text/plain": [
       "     ZIP  YEAR        ETHNICITY  POPULATION  Zip Code Population  \\\n",
       "0  91902  2019  American Indian          62                17656   \n",
       "1  91902  2019            Asian        2821                17656   \n",
       "2  91902  2019            Black         650                17656   \n",
       "3  91902  2019         Hispanic        8681                17656   \n",
       "4  91902  2019            Other          23                17656   \n",
       "\n",
       "   ETHNICITY PERCENTAGE  YELP RATING  YELP COUNT  \n",
       "0              0.003512     4.087302         252  \n",
       "1              0.159776     4.087302         252  \n",
       "2              0.036815     4.087302         252  \n",
       "3              0.491674     4.087302         252  \n",
       "4              0.001303     4.087302         252  "
      ]
     },
     "execution_count": 18,
     "metadata": {},
     "output_type": "execute_result"
    }
   ],
   "source": [
    "perc = []\n",
    "addRating = []\n",
    "addCount = []\n",
    "for i in range(len(ethnicity2019)):\n",
    "    row = ethnicity2019.loc[i]\n",
    "    x = row['POPULATION']\n",
    "    n = row['Zip Code Population']\n",
    "    zc = row['ZIP']\n",
    "    if(zc in sumZipCodes):\n",
    "        ind = sumZipCodes.index(zc)\n",
    "        addRating.append(sumRating[ind])\n",
    "        addCount.append(sumCount[ind])\n",
    "    else:\n",
    "        addRating.append(0)\n",
    "        addCount.append(0)\n",
    "    perc.append(x/n)\n",
    "ethnicity2019['ETHNICITY PERCENTAGE'] = perc\n",
    "ethnicity2019['YELP RATING'] = addRating\n",
    "ethnicity2019['YELP COUNT'] = addCount\n",
    "yelpEthnicity = ethnicity2019[ethnicity2019['YELP RATING'] != 0]\n",
    "yelpEthnicity = yelpEthnicity.reset_index(drop=True)\n",
    "yelpEthnicity.head()"
   ]
  },
  {
   "cell_type": "markdown",
   "metadata": {},
   "source": [
    "The ethnicity proportions are calculated:"
   ]
  },
  {
   "cell_type": "code",
   "execution_count": 19,
   "metadata": {},
   "outputs": [],
   "source": [
    "ethnis = list(yelpEthnicity['ZIP'].unique())\n",
    "white = []\n",
    "black = []\n",
    "AIAN = []\n",
    "asian = []\n",
    "NHOPI = []\n",
    "hispanic = []\n",
    "other = []\n",
    "multiple = []\n",
    "nonWhite = []\n",
    "for i in ethnis:\n",
    "    d = yelpEthnicity.loc[yelpEthnicity['ZIP'] == i]\n",
    "    d.reset_index(inplace = True)\n",
    "    percWhite = d['ETHNICITY PERCENTAGE'][7]\n",
    "    percBlack = d['ETHNICITY PERCENTAGE'][2]\n",
    "    percAIAN = d['ETHNICITY PERCENTAGE'][0]\n",
    "    percAsian = d['ETHNICITY PERCENTAGE'][1]\n",
    "    percHispanic = d['ETHNICITY PERCENTAGE'][3]\n",
    "    percNHOPI = d['ETHNICITY PERCENTAGE'][5]\n",
    "    percOther = d['ETHNICITY PERCENTAGE'][4]\n",
    "    percMultiple = d['ETHNICITY PERCENTAGE'][6]\n",
    "    percNonWhite = 1-percWhite\n",
    "    white.append(percWhite)\n",
    "    black.append(percBlack)\n",
    "    AIAN.append(percAIAN)\n",
    "    asian.append(percAsian)\n",
    "    NHOPI.append(percNHOPI)\n",
    "    hispanic.append(percHispanic)\n",
    "    multiple.append(percMultiple)\n",
    "    other.append(percOther)\n",
    "    nonWhite.append(percNonWhite)"
   ]
  },
  {
   "cell_type": "markdown",
   "metadata": {},
   "source": [
    "The proportions and yelp and estimates data frames are combined into a new data frame:"
   ]
  },
  {
   "cell_type": "code",
   "execution_count": 20,
   "metadata": {},
   "outputs": [],
   "source": [
    "a = list(yelpEthnicity['ZIP'])\n",
    "b = list(yelpEthnicity['Zip Code Population'])\n",
    "c = list(yelpEthnicity['YELP RATING'])\n",
    "d = list(yelpEthnicity['YELP COUNT'])\n",
    "newZip = []\n",
    "newPop = []\n",
    "newRatings = []\n",
    "newCount = []\n",
    "for i in range(len(yelpEthnicity)):\n",
    "    if(a[i] not in newZip):\n",
    "        newZip.append(a[i])\n",
    "        newPop.append(b[i])\n",
    "        newRatings.append(c[i])\n",
    "        newCount.append(d[i])\n",
    "dfYelp = pd.DataFrame(list(zip(newZip, newPop, newRatings, newCount, white, black, hispanic, asian, AIAN, NHOPI, other, multiple, nonWhite)), \n",
    "               columns =['Zip', 'Population', 'Rating', 'Count', 'White', 'Black', 'Hispanic', 'Asian', 'AIAN', 'NHOPI', 'Other', 'Multiple', 'NonWhite']) "
   ]
  },
  {
   "cell_type": "markdown",
   "metadata": {},
   "source": [
    "Next, we'll check if the rating data is normally distributed"
   ]
  },
  {
   "cell_type": "code",
   "execution_count": 64,
   "metadata": {},
   "outputs": [
    {
     "name": "stdout",
     "output_type": "stream",
     "text": [
      "3.449501945181817e-10\n"
     ]
    }
   ],
   "source": [
    "y_rating = dfYelp['Rating'].values\n",
    "st_rating, p_rating = normaltest(y_rating)\n",
    "print(p_rating)"
   ]
  },
  {
   "cell_type": "markdown",
   "metadata": {},
   "source": [
    "Based on these results, and using an alpha significance value of 0.05, the distribution can be considered to be normally distributed.\n",
    "\n",
    "The following plot visualizes this result by plotting a comparison of the data and a hypothetical normal distribution:"
   ]
  },
  {
   "cell_type": "code",
   "execution_count": 67,
   "metadata": {},
   "outputs": [
    {
     "data": {
      "image/png": "[encoded data removed]",
      "text/plain": [
       "<Figure size 432x288 with 1 Axes>"
      ]
     },
     "metadata": {},
     "output_type": "display_data"
    }
   ],
   "source": [
    "xs = np.arange(y_rating.min(), y_rating.max(), 0.1)\n",
    "fit = stats.norm.pdf(xs, np.mean(y_rating), np.std(y_rating))\n",
    "plt.plot(xs, fit, label = 'Normal Dist.', lw = 4)\n",
    "plt.hist(y_rating, density = True, label = 'Actual Data');\n",
    "plt.title('Rating Data')\n",
    "plt.legend();\n"
   ]
  },
  {
   "cell_type": "markdown",
   "metadata": {},
   "source": [
    "Here we can take a glimpse at the possibility of my hypothesis being correct:"
   ]
  },
  {
   "cell_type": "code",
   "execution_count": 21,
   "metadata": {},
   "outputs": [
    {
     "data": {
      "text/html": [
       "<div>\n",
       "<style scoped>\n",
       "    .dataframe tbody tr th:only-of-type {\n",
       "        vertical-align: middle;\n",
       "    }\n",
       "\n",
       "    .dataframe tbody tr th {\n",
       "        vertical-align: top;\n",
       "    }\n",
       "\n",
       "    .dataframe thead th {\n",
       "        text-align: right;\n",
       "    }\n",
       "</style>\n",
       "<table border=\"1\" class=\"dataframe\">\n",
       "  <thead>\n",
       "    <tr style=\"text-align: right;\">\n",
       "      <th></th>\n",
       "      <th>Zip</th>\n",
       "      <th>Population</th>\n",
       "      <th>Rating</th>\n",
       "      <th>Count</th>\n",
       "      <th>Black</th>\n",
       "      <th>Hispanic</th>\n",
       "      <th>Asian</th>\n",
       "      <th>AIAN</th>\n",
       "      <th>NHOPI</th>\n",
       "      <th>Other</th>\n",
       "      <th>Multiple</th>\n",
       "      <th>NonWhite</th>\n",
       "    </tr>\n",
       "    <tr>\n",
       "      <th>White</th>\n",
       "      <th></th>\n",
       "      <th></th>\n",
       "      <th></th>\n",
       "      <th></th>\n",
       "      <th></th>\n",
       "      <th></th>\n",
       "      <th></th>\n",
       "      <th></th>\n",
       "      <th></th>\n",
       "      <th></th>\n",
       "      <th></th>\n",
       "      <th></th>\n",
       "    </tr>\n",
       "  </thead>\n",
       "  <tbody>\n",
       "    <tr>\n",
       "      <th>0.041561</th>\n",
       "      <td>92173</td>\n",
       "      <td>27261</td>\n",
       "      <td>3.160920</td>\n",
       "      <td>174</td>\n",
       "      <td>0.010638</td>\n",
       "      <td>0.902865</td>\n",
       "      <td>0.023990</td>\n",
       "      <td>0.003228</td>\n",
       "      <td>0.003265</td>\n",
       "      <td>0.000514</td>\n",
       "      <td>0.013939</td>\n",
       "      <td>0.958439</td>\n",
       "    </tr>\n",
       "    <tr>\n",
       "      <th>0.096080</th>\n",
       "      <td>92113</td>\n",
       "      <td>48730</td>\n",
       "      <td>4.418269</td>\n",
       "      <td>208</td>\n",
       "      <td>0.114283</td>\n",
       "      <td>0.714447</td>\n",
       "      <td>0.043977</td>\n",
       "      <td>0.004186</td>\n",
       "      <td>0.003755</td>\n",
       "      <td>0.001354</td>\n",
       "      <td>0.021917</td>\n",
       "      <td>0.903920</td>\n",
       "    </tr>\n",
       "    <tr>\n",
       "      <th>0.104021</th>\n",
       "      <td>91950</td>\n",
       "      <td>58623</td>\n",
       "      <td>3.692308</td>\n",
       "      <td>26</td>\n",
       "      <td>0.042475</td>\n",
       "      <td>0.615697</td>\n",
       "      <td>0.201354</td>\n",
       "      <td>0.004810</td>\n",
       "      <td>0.004435</td>\n",
       "      <td>0.001416</td>\n",
       "      <td>0.025792</td>\n",
       "      <td>0.895979</td>\n",
       "    </tr>\n",
       "    <tr>\n",
       "      <th>0.106053</th>\n",
       "      <td>92114</td>\n",
       "      <td>58084</td>\n",
       "      <td>3.833333</td>\n",
       "      <td>15</td>\n",
       "      <td>0.199883</td>\n",
       "      <td>0.414434</td>\n",
       "      <td>0.232043</td>\n",
       "      <td>0.006353</td>\n",
       "      <td>0.005096</td>\n",
       "      <td>0.002428</td>\n",
       "      <td>0.033710</td>\n",
       "      <td>0.893947</td>\n",
       "    </tr>\n",
       "    <tr>\n",
       "      <th>0.135459</th>\n",
       "      <td>92154</td>\n",
       "      <td>79574</td>\n",
       "      <td>4.076138</td>\n",
       "      <td>637</td>\n",
       "      <td>0.063111</td>\n",
       "      <td>0.641340</td>\n",
       "      <td>0.125606</td>\n",
       "      <td>0.004700</td>\n",
       "      <td>0.004185</td>\n",
       "      <td>0.002626</td>\n",
       "      <td>0.022972</td>\n",
       "      <td>0.864541</td>\n",
       "    </tr>\n",
       "    <tr>\n",
       "      <th>...</th>\n",
       "      <td>...</td>\n",
       "      <td>...</td>\n",
       "      <td>...</td>\n",
       "      <td>...</td>\n",
       "      <td>...</td>\n",
       "      <td>...</td>\n",
       "      <td>...</td>\n",
       "      <td>...</td>\n",
       "      <td>...</td>\n",
       "      <td>...</td>\n",
       "      <td>...</td>\n",
       "      <td>...</td>\n",
       "    </tr>\n",
       "    <tr>\n",
       "      <th>0.737697</th>\n",
       "      <td>92036</td>\n",
       "      <td>4369</td>\n",
       "      <td>4.000000</td>\n",
       "      <td>26</td>\n",
       "      <td>0.014878</td>\n",
       "      <td>0.183566</td>\n",
       "      <td>0.017624</td>\n",
       "      <td>0.017166</td>\n",
       "      <td>0.004120</td>\n",
       "      <td>0.002747</td>\n",
       "      <td>0.022202</td>\n",
       "      <td>0.262303</td>\n",
       "    </tr>\n",
       "    <tr>\n",
       "      <th>0.739041</th>\n",
       "      <td>92024</td>\n",
       "      <td>56641</td>\n",
       "      <td>4.670374</td>\n",
       "      <td>989</td>\n",
       "      <td>0.009463</td>\n",
       "      <td>0.158825</td>\n",
       "      <td>0.055260</td>\n",
       "      <td>0.006762</td>\n",
       "      <td>0.003478</td>\n",
       "      <td>0.002419</td>\n",
       "      <td>0.024752</td>\n",
       "      <td>0.260959</td>\n",
       "    </tr>\n",
       "    <tr>\n",
       "      <th>0.744834</th>\n",
       "      <td>92118</td>\n",
       "      <td>17953</td>\n",
       "      <td>4.377688</td>\n",
       "      <td>1488</td>\n",
       "      <td>0.016989</td>\n",
       "      <td>0.153401</td>\n",
       "      <td>0.048293</td>\n",
       "      <td>0.006127</td>\n",
       "      <td>0.004233</td>\n",
       "      <td>0.002618</td>\n",
       "      <td>0.023506</td>\n",
       "      <td>0.255166</td>\n",
       "    </tr>\n",
       "    <tr>\n",
       "      <th>0.765720</th>\n",
       "      <td>92014</td>\n",
       "      <td>14218</td>\n",
       "      <td>4.150899</td>\n",
       "      <td>1279</td>\n",
       "      <td>0.006471</td>\n",
       "      <td>0.103531</td>\n",
       "      <td>0.091785</td>\n",
       "      <td>0.004290</td>\n",
       "      <td>0.002884</td>\n",
       "      <td>0.003095</td>\n",
       "      <td>0.022225</td>\n",
       "      <td>0.234280</td>\n",
       "    </tr>\n",
       "    <tr>\n",
       "      <th>0.803388</th>\n",
       "      <td>92007</td>\n",
       "      <td>11276</td>\n",
       "      <td>4.000000</td>\n",
       "      <td>107</td>\n",
       "      <td>0.007272</td>\n",
       "      <td>0.120699</td>\n",
       "      <td>0.035562</td>\n",
       "      <td>0.004612</td>\n",
       "      <td>0.004700</td>\n",
       "      <td>0.002394</td>\n",
       "      <td>0.021373</td>\n",
       "      <td>0.196612</td>\n",
       "    </tr>\n",
       "  </tbody>\n",
       "</table>\n",
       "<p>78 rows × 12 columns</p>\n",
       "</div>"
      ],
      "text/plain": [
       "            Zip  Population    Rating  Count     Black  Hispanic     Asian  \\\n",
       "White                                                                        \n",
       "0.041561  92173       27261  3.160920    174  0.010638  0.902865  0.023990   \n",
       "0.096080  92113       48730  4.418269    208  0.114283  0.714447  0.043977   \n",
       "0.104021  91950       58623  3.692308     26  0.042475  0.615697  0.201354   \n",
       "0.106053  92114       58084  3.833333     15  0.199883  0.414434  0.232043   \n",
       "0.135459  92154       79574  4.076138    637  0.063111  0.641340  0.125606   \n",
       "...         ...         ...       ...    ...       ...       ...       ...   \n",
       "0.737697  92036        4369  4.000000     26  0.014878  0.183566  0.017624   \n",
       "0.739041  92024       56641  4.670374    989  0.009463  0.158825  0.055260   \n",
       "0.744834  92118       17953  4.377688   1488  0.016989  0.153401  0.048293   \n",
       "0.765720  92014       14218  4.150899   1279  0.006471  0.103531  0.091785   \n",
       "0.803388  92007       11276  4.000000    107  0.007272  0.120699  0.035562   \n",
       "\n",
       "              AIAN     NHOPI     Other  Multiple  NonWhite  \n",
       "White                                                       \n",
       "0.041561  0.003228  0.003265  0.000514  0.013939  0.958439  \n",
       "0.096080  0.004186  0.003755  0.001354  0.021917  0.903920  \n",
       "0.104021  0.004810  0.004435  0.001416  0.025792  0.895979  \n",
       "0.106053  0.006353  0.005096  0.002428  0.033710  0.893947  \n",
       "0.135459  0.004700  0.004185  0.002626  0.022972  0.864541  \n",
       "...            ...       ...       ...       ...       ...  \n",
       "0.737697  0.017166  0.004120  0.002747  0.022202  0.262303  \n",
       "0.739041  0.006762  0.003478  0.002419  0.024752  0.260959  \n",
       "0.744834  0.006127  0.004233  0.002618  0.023506  0.255166  \n",
       "0.765720  0.004290  0.002884  0.003095  0.022225  0.234280  \n",
       "0.803388  0.004612  0.004700  0.002394  0.021373  0.196612  \n",
       "\n",
       "[78 rows x 12 columns]"
      ]
     },
     "execution_count": 21,
     "metadata": {},
     "output_type": "execute_result"
    }
   ],
   "source": [
    "dfYelp.groupby('White').sum().sort_values(by='White')"
   ]
  },
  {
   "cell_type": "markdown",
   "metadata": {},
   "source": [
    "The following plots show the possible connections the proportion of each ethnicity has with the Yelp ratings. The scatterplots with a large amount of points on the top right corner of the graph show a positive correlation between ethnicity and yelp rating, while those with a large amount of points on the the top left corner of the graph show a negative correlation between ethnicity and yelp rating."
   ]
  },
  {
   "cell_type": "code",
   "execution_count": 68,
   "metadata": {},
   "outputs": [
    {
     "data": {
      "image/png": "[encoded data removed]",
      "text/plain": [
       "<Figure size 432x288 with 1 Axes>"
      ]
     },
     "metadata": {},
     "output_type": "display_data"
    }
   ],
   "source": [
    "whiteFig = sns.scatterplot(x='White', y='Rating', data=dfYelp)\n",
    "whiteFig.set(xlabel='White Percentage', ylabel='Yelp Rating', title='Yelp Ratings By Percentage of White People')\n",
    "plt.show()"
   ]
  },
  {
   "cell_type": "code",
   "execution_count": 69,
   "metadata": {},
   "outputs": [
    {
     "data": {
      "image/png": "[encoded data removed]",
      "text/plain": [
       "<Figure size 432x288 with 1 Axes>"
      ]
     },
     "metadata": {},
     "output_type": "display_data"
    }
   ],
   "source": [
    "blackFig = sns.scatterplot(x='Black', y='Rating', data=dfYelp)\n",
    "blackFig.set(xlabel='Black Percentage', ylabel='Yelp Rating', title='Yelp Ratings By Percentage of Black People')\n",
    "plt.show()"
   ]
  },
  {
   "cell_type": "code",
   "execution_count": 70,
   "metadata": {},
   "outputs": [
    {
     "data": {
      "image/png": "[encoded data removed]",
      "text/plain": [
       "<Figure size 432x288 with 1 Axes>"
      ]
     },
     "metadata": {},
     "output_type": "display_data"
    }
   ],
   "source": [
    "hispanicFig = sns.scatterplot(x='Hispanic', y='Rating', data=dfYelp)\n",
    "hispanicFig.set(xlabel='Hispanic Percentage', ylabel='Yelp Rating', title='Yelp Ratings By Percentage of Hispanic People')\n",
    "plt.show()"
   ]
  },
  {
   "cell_type": "code",
   "execution_count": 71,
   "metadata": {},
   "outputs": [
    {
     "data": {
      "image/png": "[encoded data removed]",
      "text/plain": [
       "<Figure size 432x288 with 1 Axes>"
      ]
     },
     "metadata": {},
     "output_type": "display_data"
    }
   ],
   "source": [
    "AsianFig = sns.scatterplot(x='Asian', y='Rating', data=dfYelp)\n",
    "AsianFig.set(xlabel='Asian Percentage', ylabel='Yelp Rating', title='Yelp Ratings By Percentage of Asian People')\n",
    "plt.show()"
   ]
  },
  {
   "cell_type": "code",
   "execution_count": 72,
   "metadata": {},
   "outputs": [
    {
     "data": {
      "image/png": "[encoded data removed]",
      "text/plain": [
       "<Figure size 432x288 with 1 Axes>"
      ]
     },
     "metadata": {},
     "output_type": "display_data"
    }
   ],
   "source": [
    "AIANFig = sns.scatterplot(x='AIAN', y='Rating', data=dfYelp)\n",
    "AIANFig.set(xlabel='AIAN Percentage', ylabel='Yelp Rating', title='AIAN People')\n",
    "plt.show()"
   ]
  },
  {
   "cell_type": "code",
   "execution_count": 73,
   "metadata": {},
   "outputs": [
    {
     "data": {
      "image/png": "[encoded data removed]",
      "text/plain": [
       "<Figure size 432x288 with 1 Axes>"
      ]
     },
     "metadata": {},
     "output_type": "display_data"
    }
   ],
   "source": [
    "NHOPIFig = sns.scatterplot(x='NHOPI', y='Rating', data=dfYelp)\n",
    "whiteFig.set(xlabel='NHOPI Percentage', ylabel='Yelp Rating', title='Yelp Ratings By Percentage of NHOPI People')\n",
    "plt.show()"
   ]
  },
  {
   "cell_type": "code",
   "execution_count": 74,
   "metadata": {},
   "outputs": [
    {
     "data": {
      "image/png": "[encoded data removed]",
      "text/plain": [
       "<Figure size 432x288 with 1 Axes>"
      ]
     },
     "metadata": {},
     "output_type": "display_data"
    }
   ],
   "source": [
    "otherFig = sns.scatterplot(x='Other', y='Rating', data=dfYelp)\n",
    "otherFig.set(xlabel='Other Percentage', ylabel='Yelp Rating', title='Yelp Ratings By Percentage of Other Ethnicities')\n",
    "plt.show()"
   ]
  },
  {
   "cell_type": "code",
   "execution_count": 75,
   "metadata": {},
   "outputs": [
    {
     "data": {
      "image/png": "[encoded data removed]",
      "text/plain": [
       "<Figure size 432x288 with 1 Axes>"
      ]
     },
     "metadata": {},
     "output_type": "display_data"
    }
   ],
   "source": [
    "multipleFig = sns.scatterplot(x='Multiple', y='Rating', data=dfYelp)\n",
    "multipleFig.set(xlabel='Multiple Percentage', ylabel='Yelp Rating', title='Yelp Ratings By Percentage of Multiple Ethnicities')\n",
    "plt.show()"
   ]
  },
  {
   "cell_type": "code",
   "execution_count": 30,
   "metadata": {},
   "outputs": [
    {
     "data": {
      "image/png": "[encoded data removed]",
      "text/plain": [
       "<Figure size 432x288 with 1 Axes>"
      ]
     },
     "metadata": {},
     "output_type": "display_data"
    }
   ],
   "source": [
    "nonWhiteFig = sns.scatterplot(x='NonWhite', y='Rating', data=dfYelp)\n",
    "nonWhiteFig.set(xlabel='Non-White Percentage', ylabel='Yelp Rating', title='Yelp Ratings By Percentage of Non-White People')\n",
    "plt.show()"
   ]
  },
  {
   "cell_type": "markdown",
   "metadata": {},
   "source": [
    "From the scatterplots, it is easy to see that higher proportion of white people have higher yelp ratings"
   ]
  },
  {
   "cell_type": "code",
   "execution_count": 31,
   "metadata": {},
   "outputs": [],
   "source": [
    "outcome_1, predictors_1 = patsy.dmatrices('Rating~White',dfYelp)\n",
    "mod_1 = sm.OLS(outcome_1, predictors_1)\n",
    "res_1 = mod_1.fit()"
   ]
  },
  {
   "cell_type": "code",
   "execution_count": 32,
   "metadata": {},
   "outputs": [
    {
     "name": "stdout",
     "output_type": "stream",
     "text": [
      "                            OLS Regression Results                            \n",
      "==============================================================================\n",
      "Dep. Variable:                 Rating   R-squared:                       0.065\n",
      "Model:                            OLS   Adj. R-squared:                  0.053\n",
      "Method:                 Least Squares   F-statistic:                     5.310\n",
      "Date:                Mon, 18 Jan 2021   Prob (F-statistic):             0.0239\n",
      "Time:                        13:55:26   Log-Likelihood:                -78.509\n",
      "No. Observations:                  78   AIC:                             161.0\n",
      "Df Residuals:                      76   BIC:                             165.7\n",
      "Df Model:                           1                                         \n",
      "Covariance Type:            nonrobust                                         \n",
      "==============================================================================\n",
      "                 coef    std err          t      P>|t|      [0.025      0.975]\n",
      "------------------------------------------------------------------------------\n",
      "Intercept      3.5077      0.205     17.122      0.000       3.100       3.916\n",
      "White          0.9102      0.395      2.304      0.024       0.123       1.697\n",
      "==============================================================================\n",
      "Omnibus:                       39.044   Durbin-Watson:                   2.100\n",
      "Prob(Omnibus):                  0.000   Jarque-Bera (JB):              100.963\n",
      "Skew:                          -1.687   Prob(JB):                     1.19e-22\n",
      "Kurtosis:                       7.436   Cond. No.                         6.45\n",
      "==============================================================================\n",
      "\n",
      "Warnings:\n",
      "[1] Standard Errors assume that the covariance matrix of the errors is correctly specified.\n"
     ]
    }
   ],
   "source": [
    "print(res_1.summary())"
   ]
  },
  {
   "cell_type": "markdown",
   "metadata": {},
   "source": [
    "Using ordinary least squares regression and a significane value of 0.05, the data provides sufficient evidence to argue that the proportion of white people correlates to the favorability of parks and recreational facilities in San Diego."
   ]
  },
  {
   "cell_type": "code",
   "execution_count": 33,
   "metadata": {},
   "outputs": [
    {
     "name": "stdout",
     "output_type": "stream",
     "text": [
      "                            OLS Regression Results                            \n",
      "==============================================================================\n",
      "Dep. Variable:                 Rating   R-squared:                       0.012\n",
      "Model:                            OLS   Adj. R-squared:                 -0.001\n",
      "Method:                 Least Squares   F-statistic:                    0.9372\n",
      "Date:                Mon, 18 Jan 2021   Prob (F-statistic):              0.336\n",
      "Time:                        13:55:26   Log-Likelihood:                -80.665\n",
      "No. Observations:                  78   AIC:                             165.3\n",
      "Df Residuals:                      76   BIC:                             170.0\n",
      "Df Model:                           1                                         \n",
      "Covariance Type:            nonrobust                                         \n",
      "==============================================================================\n",
      "                 coef    std err          t      P>|t|      [0.025      0.975]\n",
      "------------------------------------------------------------------------------\n",
      "Intercept      4.0369      0.122     33.083      0.000       3.794       4.280\n",
      "Black         -1.8078      1.867     -0.968      0.336      -5.527       1.911\n",
      "==============================================================================\n",
      "Omnibus:                       44.314   Durbin-Watson:                   2.064\n",
      "Prob(Omnibus):                  0.000   Jarque-Bera (JB):              129.765\n",
      "Skew:                          -1.883   Prob(JB):                     6.64e-29\n",
      "Kurtosis:                       8.074   Cond. No.                         24.0\n",
      "==============================================================================\n",
      "\n",
      "Warnings:\n",
      "[1] Standard Errors assume that the covariance matrix of the errors is correctly specified.\n"
     ]
    }
   ],
   "source": [
    "outcome_2, predictors_2 = patsy.dmatrices('Rating~Black', dfYelp)\n",
    "mod = sm.OLS(outcome_2, predictors_2)\n",
    "res = mod.fit()\n",
    "print(res.summary())"
   ]
  },
  {
   "cell_type": "markdown",
   "metadata": {},
   "source": [
    "Using ordinary least squares regression and a significane value of 0.05, the data provides sufficient evidence to argue that the proportion of Black people does not correlate to the favorability of parks and recreational facilities in San Diego."
   ]
  },
  {
   "cell_type": "code",
   "execution_count": 34,
   "metadata": {},
   "outputs": [
    {
     "name": "stdout",
     "output_type": "stream",
     "text": [
      "                            OLS Regression Results                            \n",
      "==============================================================================\n",
      "Dep. Variable:                 Rating   R-squared:                       0.054\n",
      "Model:                            OLS   Adj. R-squared:                  0.042\n",
      "Method:                 Least Squares   F-statistic:                     4.379\n",
      "Date:                Mon, 18 Jan 2021   Prob (F-statistic):             0.0397\n",
      "Time:                        13:55:26   Log-Likelihood:                -78.958\n",
      "No. Observations:                  78   AIC:                             161.9\n",
      "Df Residuals:                      76   BIC:                             166.6\n",
      "Df Model:                           1                                         \n",
      "Covariance Type:            nonrobust                                         \n",
      "==============================================================================\n",
      "                 coef    std err          t      P>|t|      [0.025      0.975]\n",
      "------------------------------------------------------------------------------\n",
      "Intercept      4.2277      0.155     27.325      0.000       3.920       4.536\n",
      "Hispanic      -0.9410      0.450     -2.092      0.040      -1.837      -0.045\n",
      "==============================================================================\n",
      "Omnibus:                       35.451   Durbin-Watson:                   2.098\n",
      "Prob(Omnibus):                  0.000   Jarque-Bera (JB):               82.290\n",
      "Skew:                          -1.571   Prob(JB):                     1.35e-18\n",
      "Kurtosis:                       6.931   Cond. No.                         6.43\n",
      "==============================================================================\n",
      "\n",
      "Warnings:\n",
      "[1] Standard Errors assume that the covariance matrix of the errors is correctly specified.\n"
     ]
    }
   ],
   "source": [
    "outcome_3, predictors_3 = patsy.dmatrices('Rating~Hispanic', dfYelp)\n",
    "mod = sm.OLS(outcome_3, predictors_3)\n",
    "res = mod.fit()\n",
    "print(res.summary())"
   ]
  },
  {
   "cell_type": "markdown",
   "metadata": {},
   "source": [
    "Using ordinary least squares regression and a significane value of 0.05, the data provides sufficient evidence to argue that the proportion of Hispanic people correlates negatively to the favorability of parks and recreational facilities in San Diego."
   ]
  },
  {
   "cell_type": "code",
   "execution_count": 35,
   "metadata": {},
   "outputs": [
    {
     "name": "stdout",
     "output_type": "stream",
     "text": [
      "                            OLS Regression Results                            \n",
      "==============================================================================\n",
      "Dep. Variable:                 Rating   R-squared:                       0.003\n",
      "Model:                            OLS   Adj. R-squared:                 -0.010\n",
      "Method:                 Least Squares   F-statistic:                    0.2268\n",
      "Date:                Mon, 18 Jan 2021   Prob (F-statistic):              0.635\n",
      "Time:                        13:55:26   Log-Likelihood:                -81.027\n",
      "No. Observations:                  78   AIC:                             166.1\n",
      "Df Residuals:                      76   BIC:                             170.8\n",
      "Df Model:                           1                                         \n",
      "Covariance Type:            nonrobust                                         \n",
      "==============================================================================\n",
      "                 coef    std err          t      P>|t|      [0.025      0.975]\n",
      "------------------------------------------------------------------------------\n",
      "Intercept      3.9948      0.129     31.033      0.000       3.738       4.251\n",
      "Asian         -0.3935      0.826     -0.476      0.635      -2.039       1.252\n",
      "==============================================================================\n",
      "Omnibus:                       44.694   Durbin-Watson:                   2.073\n",
      "Prob(Omnibus):                  0.000   Jarque-Bera (JB):              133.107\n",
      "Skew:                          -1.892   Prob(JB):                     1.25e-29\n",
      "Kurtosis:                       8.162   Cond. No.                         10.7\n",
      "==============================================================================\n",
      "\n",
      "Warnings:\n",
      "[1] Standard Errors assume that the covariance matrix of the errors is correctly specified.\n"
     ]
    }
   ],
   "source": [
    "outcome_4, predictors_4 = patsy.dmatrices('Rating~Asian', dfYelp)\n",
    "mod = sm.OLS(outcome_4, predictors_4)\n",
    "res = mod.fit()\n",
    "print(res.summary())"
   ]
  },
  {
   "cell_type": "markdown",
   "metadata": {},
   "source": [
    "Using ordinary least squares regression and a significane value of 0.05, the data provides sufficient evidence to argue that the proportion of Asian people does not correlate to the favorability of parks and recreational facilities in San Diego."
   ]
  },
  {
   "cell_type": "code",
   "execution_count": 36,
   "metadata": {},
   "outputs": [
    {
     "name": "stdout",
     "output_type": "stream",
     "text": [
      "                            OLS Regression Results                            \n",
      "==============================================================================\n",
      "Dep. Variable:                 Rating   R-squared:                       0.019\n",
      "Model:                            OLS   Adj. R-squared:                  0.006\n",
      "Method:                 Least Squares   F-statistic:                     1.433\n",
      "Date:                Mon, 18 Jan 2021   Prob (F-statistic):              0.235\n",
      "Time:                        13:55:26   Log-Likelihood:                -80.414\n",
      "No. Observations:                  78   AIC:                             164.8\n",
      "Df Residuals:                      76   BIC:                             169.5\n",
      "Df Model:                           1                                         \n",
      "Covariance Type:            nonrobust                                         \n",
      "==============================================================================\n",
      "                 coef    std err          t      P>|t|      [0.025      0.975]\n",
      "------------------------------------------------------------------------------\n",
      "Intercept      3.7743      0.163     23.113      0.000       3.449       4.100\n",
      "AIAN          27.0234     22.575      1.197      0.235     -17.939      71.986\n",
      "==============================================================================\n",
      "Omnibus:                       42.391   Durbin-Watson:                   2.117\n",
      "Prob(Omnibus):                  0.000   Jarque-Bera (JB):              120.144\n",
      "Skew:                          -1.802   Prob(JB):                     8.15e-27\n",
      "Kurtosis:                       7.896   Cond. No.                         290.\n",
      "==============================================================================\n",
      "\n",
      "Warnings:\n",
      "[1] Standard Errors assume that the covariance matrix of the errors is correctly specified.\n"
     ]
    }
   ],
   "source": [
    "outcome_5, predictors_5 = patsy.dmatrices('Rating~AIAN', dfYelp)\n",
    "mod = sm.OLS(outcome_5, predictors_5)\n",
    "res = mod.fit()\n",
    "print(res.summary())"
   ]
  },
  {
   "cell_type": "markdown",
   "metadata": {},
   "source": [
    "Using ordinary least squares regression and a significane value of 0.05, the data provides sufficient evidence to argue that the proportion of American Indian and Alaskan Native people does not correlate to the favorability of parks and recreational facilities in San Diego. \n",
    "-make not on standard error"
   ]
  },
  {
   "cell_type": "code",
   "execution_count": 37,
   "metadata": {},
   "outputs": [
    {
     "name": "stdout",
     "output_type": "stream",
     "text": [
      "                            OLS Regression Results                            \n",
      "==============================================================================\n",
      "Dep. Variable:                 Rating   R-squared:                       0.059\n",
      "Model:                            OLS   Adj. R-squared:                  0.046\n",
      "Method:                 Least Squares   F-statistic:                     4.741\n",
      "Date:                Mon, 18 Jan 2021   Prob (F-statistic):             0.0326\n",
      "Time:                        13:55:26   Log-Likelihood:                -78.783\n",
      "No. Observations:                  78   AIC:                             161.6\n",
      "Df Residuals:                      76   BIC:                             166.3\n",
      "Df Model:                           1                                         \n",
      "Covariance Type:            nonrobust                                         \n",
      "==============================================================================\n",
      "                 coef    std err          t      P>|t|      [0.025      0.975]\n",
      "------------------------------------------------------------------------------\n",
      "Intercept      4.8543      0.424     11.449      0.000       4.010       5.699\n",
      "NHOPI       -217.1632     99.737     -2.177      0.033    -415.807     -18.519\n",
      "==============================================================================\n",
      "Omnibus:                       46.770   Durbin-Watson:                   2.193\n",
      "Prob(Omnibus):                  0.000   Jarque-Bera (JB):              148.203\n",
      "Skew:                          -1.961   Prob(JB):                     6.58e-33\n",
      "Kurtosis:                       8.497   Cond. No.                     1.31e+03\n",
      "==============================================================================\n",
      "\n",
      "Warnings:\n",
      "[1] Standard Errors assume that the covariance matrix of the errors is correctly specified.\n",
      "[2] The condition number is large, 1.31e+03. This might indicate that there are\n",
      "strong multicollinearity or other numerical problems.\n"
     ]
    }
   ],
   "source": [
    "outcome_6, predictors_6 = patsy.dmatrices('Rating~NHOPI', dfYelp)\n",
    "mod = sm.OLS(outcome_6, predictors_6)\n",
    "res = mod.fit()\n",
    "print(res.summary())"
   ]
  },
  {
   "cell_type": "markdown",
   "metadata": {},
   "source": [
    "Using ordinary least squares regression and a significane value of 0.05, the data provides sufficient evidence to argue that the proportion of Native Hawaiian or Pacific Islander people correlates negatively to the favorability of parks and recreational facilities in San Diego.\n",
    "-make not on standard error"
   ]
  },
  {
   "cell_type": "code",
   "execution_count": 38,
   "metadata": {},
   "outputs": [
    {
     "name": "stdout",
     "output_type": "stream",
     "text": [
      "                            OLS Regression Results                            \n",
      "==============================================================================\n",
      "Dep. Variable:                 Rating   R-squared:                       0.015\n",
      "Model:                            OLS   Adj. R-squared:                  0.002\n",
      "Method:                 Least Squares   F-statistic:                     1.125\n",
      "Date:                Mon, 18 Jan 2021   Prob (F-statistic):              0.292\n",
      "Time:                        13:55:26   Log-Likelihood:                -80.570\n",
      "No. Observations:                  78   AIC:                             165.1\n",
      "Df Residuals:                      76   BIC:                             169.9\n",
      "Df Model:                           1                                         \n",
      "Covariance Type:            nonrobust                                         \n",
      "==============================================================================\n",
      "                 coef    std err          t      P>|t|      [0.025      0.975]\n",
      "------------------------------------------------------------------------------\n",
      "Intercept      3.6952      0.249     14.835      0.000       3.199       4.191\n",
      "Other        102.8562     96.955      1.061      0.292     -90.247     295.959\n",
      "==============================================================================\n",
      "Omnibus:                       40.337   Durbin-Watson:                   2.075\n",
      "Prob(Omnibus):                  0.000   Jarque-Bera (JB):              106.049\n",
      "Skew:                          -1.744   Prob(JB):                     9.37e-24\n",
      "Kurtosis:                       7.523   Cond. No.                     1.24e+03\n",
      "==============================================================================\n",
      "\n",
      "Warnings:\n",
      "[1] Standard Errors assume that the covariance matrix of the errors is correctly specified.\n",
      "[2] The condition number is large, 1.24e+03. This might indicate that there are\n",
      "strong multicollinearity or other numerical problems.\n"
     ]
    }
   ],
   "source": [
    "outcome_7, predictors_7 = patsy.dmatrices('Rating~Other', dfYelp)\n",
    "mod = sm.OLS(outcome_7, predictors_7)\n",
    "res = mod.fit()\n",
    "print(res.summary())"
   ]
  },
  {
   "cell_type": "markdown",
   "metadata": {},
   "source": [
    "Using ordinary least squares regression and a significane value of 0.05, the data provides sufficient evidence to argue that the proportion of people of other ethnicities does not correlate to the favorability of parks and recreational facilities in San Diego."
   ]
  },
  {
   "cell_type": "code",
   "execution_count": 39,
   "metadata": {},
   "outputs": [
    {
     "name": "stdout",
     "output_type": "stream",
     "text": [
      "                            OLS Regression Results                            \n",
      "==============================================================================\n",
      "Dep. Variable:                 Rating   R-squared:                       0.000\n",
      "Model:                            OLS   Adj. R-squared:                 -0.013\n",
      "Method:                 Least Squares   F-statistic:                  0.007517\n",
      "Date:                Mon, 18 Jan 2021   Prob (F-statistic):              0.931\n",
      "Time:                        13:55:26   Log-Likelihood:                -81.139\n",
      "No. Observations:                  78   AIC:                             166.3\n",
      "Df Residuals:                      76   BIC:                             171.0\n",
      "Df Model:                           1                                         \n",
      "Covariance Type:            nonrobust                                         \n",
      "==============================================================================\n",
      "                 coef    std err          t      P>|t|      [0.025      0.975]\n",
      "------------------------------------------------------------------------------\n",
      "Intercept      3.9754      0.346     11.476      0.000       3.285       4.665\n",
      "Multiple      -0.9038     10.424     -0.087      0.931     -21.665      19.858\n",
      "==============================================================================\n",
      "Omnibus:                       43.837   Durbin-Watson:                   2.070\n",
      "Prob(Omnibus):                  0.000   Jarque-Bera (JB):              127.058\n",
      "Skew:                          -1.864   Prob(JB):                     2.57e-28\n",
      "Kurtosis:                       8.019   Cond. No.                         133.\n",
      "==============================================================================\n",
      "\n",
      "Warnings:\n",
      "[1] Standard Errors assume that the covariance matrix of the errors is correctly specified.\n"
     ]
    }
   ],
   "source": [
    "outcome_8, predictors_8 = patsy.dmatrices('Rating~Multiple', dfYelp)\n",
    "mod = sm.OLS(outcome_8, predictors_8)\n",
    "res = mod.fit()\n",
    "print(res.summary())"
   ]
  },
  {
   "cell_type": "markdown",
   "metadata": {},
   "source": [
    "Using ordinary least squares regression and a significane value of 0.05, the data provides sufficient evidence to argue that the proportion of people of multiple ethnicities does not correlate to the favorability of parks and recreational facilities in San Diego."
   ]
  },
  {
   "cell_type": "code",
   "execution_count": 40,
   "metadata": {},
   "outputs": [
    {
     "name": "stdout",
     "output_type": "stream",
     "text": [
      "                            OLS Regression Results                            \n",
      "==============================================================================\n",
      "Dep. Variable:                 Rating   R-squared:                       0.065\n",
      "Model:                            OLS   Adj. R-squared:                  0.053\n",
      "Method:                 Least Squares   F-statistic:                     5.310\n",
      "Date:                Mon, 18 Jan 2021   Prob (F-statistic):             0.0239\n",
      "Time:                        13:55:26   Log-Likelihood:                -78.509\n",
      "No. Observations:                  78   AIC:                             161.0\n",
      "Df Residuals:                      76   BIC:                             165.7\n",
      "Df Model:                           1                                         \n",
      "Covariance Type:            nonrobust                                         \n",
      "==============================================================================\n",
      "                 coef    std err          t      P>|t|      [0.025      0.975]\n",
      "------------------------------------------------------------------------------\n",
      "Intercept      2.6419      0.051     51.946      0.000       2.541       2.743\n",
      "White          1.7760      0.202      8.814      0.000       1.375       2.177\n",
      "NonWhite       0.8658      0.197      4.401      0.000       0.474       1.258\n",
      "==============================================================================\n",
      "Omnibus:                       39.044   Durbin-Watson:                   2.100\n",
      "Prob(Omnibus):                  0.000   Jarque-Bera (JB):              100.963\n",
      "Skew:                          -1.687   Prob(JB):                     1.19e-22\n",
      "Kurtosis:                       7.436   Cond. No.                     1.03e+16\n",
      "==============================================================================\n",
      "\n",
      "Warnings:\n",
      "[1] Standard Errors assume that the covariance matrix of the errors is correctly specified.\n",
      "[2] The smallest eigenvalue is 1.11e-30. This might indicate that there are\n",
      "strong multicollinearity problems or that the design matrix is singular.\n"
     ]
    }
   ],
   "source": [
    "outcome_9, predictors_9 = patsy.dmatrices('Rating~White + NonWhite', dfYelp)\n",
    "mod = sm.OLS(outcome_9, predictors_9)\n",
    "res = mod.fit()\n",
    "print(res.summary())"
   ]
  },
  {
   "cell_type": "markdown",
   "metadata": {},
   "source": [
    "This double regression with white and non-white people shows that white proportions have a higher impact than non-white proportions for yelp ratings"
   ]
  },
  {
   "cell_type": "markdown",
   "metadata": {},
   "source": [
    "# Ethics & Privacy¶\n"
   ]
  },
  {
   "cell_type": "markdown",
   "metadata": {},
   "source": [
    "The datasets used are from publically accessible sources with no personally identifiable information. The Yelp data does not include any personal reviews, therefore an individual user cannot be pinpoited, however, they can be seen within the revieweres for the respective parks and recreational facilities in San Diego. This is not a significant privacy issue because Yelp users are aware that they make their data public upon reviewing. The Yelp data is potentially biased because not everyone makes Yelp reviews when visiting a park, so there is the technology and language barrier in the use of the website. Additionally, people who tend to have polarizing opinions tend to submit reviews whereas those who are neutral do not. With all this in mind, it is important to note that this analysis is not entirely representative of the San Diego population and receiving opinions from the people first hand should be the most important factor for any government decision."
   ]
  },
  {
   "cell_type": "markdown",
   "metadata": {},
   "source": [
    "# Conclusion & Discussion"
   ]
  },
  {
   "cell_type": "markdown",
   "metadata": {},
   "source": [
    "This analysis contains data from yelp reviews to get a quantitative value for the favorability of parks and recreational facilities in each San Diego zip code with population ethnicities considered. From this data and analysis, there was sufficient evidence to claim that the proportion of white people in an area correlates to the favorability of parks and recreation facilities in San Diego. This reinforces the findings from other analysts that show that there is a racial equity gap in San Diego and encourages government leaders to invest more into diverse communities."
   ]
  }
 ],
 "metadata": {
  "kernelspec": {
   "display_name": "Python 3",
   "language": "python",
   "name": "python3"
  },
  "language_info": {
   "codemirror_mode": {
    "name": "ipython",
    "version": 3
   },
   "file_extension": ".py",
   "mimetype": "text/x-python",
   "name": "python",
   "nbconvert_exporter": "python",
   "pygments_lexer": "ipython3",
   "version": "3.7.6"
  }
 },
 "nbformat": 4,
 "nbformat_minor": 4
}
