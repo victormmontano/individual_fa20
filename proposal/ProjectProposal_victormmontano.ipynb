{
 "cells": [
  {
   "cell_type": "markdown",
   "metadata": {},
   "source": [
    "# COGS 108 - Project Proposal"
   ]
  },
  {
   "cell_type": "markdown",
   "metadata": {},
   "source": [
    "# Names & GitHub ID\n",
    "\n",
    "- Name: Victor Montano\n",
    "- GitHub Username: victormmontano"
   ]
  },
  {
   "cell_type": "markdown",
   "metadata": {},
   "source": [
    "# Research Question"
   ]
  },
  {
   "cell_type": "markdown",
   "metadata": {},
   "source": [
    "How does the amount of city park funding from development fees correlate to the quality of parks in San Diego? Does this reflect a lack of equity for low income neighborhoods?"
   ]
  },
  {
   "cell_type": "markdown",
   "metadata": {},
   "source": [
    "## Background and Prior Work"
   ]
  },
  {
   "cell_type": "markdown",
   "metadata": {},
   "source": [
    "Every city in San Diego receives different amount of funding for creation and improvement of their parks based off of their city's budget as well as development impact fees, which are fees collected from the developers who build amenities (1 & 2). The city's overall budget depends on population size, where a higher population leads to more funding (5). This year, San Diego allocated 122.2 million dollars (8%) of its budget towards parks and recreation(3 & 4). The mayor of each city submits a budget proposal to the county and then decides how much to allocate for parks and recreation (6). The development impact fees are an addition to their budget. The fee in each city varies depending on development they expect and how much money they believe will be needed for future improvements (7). Representatives and citizens from low income neighborhoods have felt like there is a lack of equity because funds are not distributed according to each city's needs (8). Because development impact fees are not managed equally throughout each city, an analysis of these fees can help evaluate whether the current budgeting system is affecting neighborhoods based on their income. If the data implies that there is a systemic lack of equity throughout the county, then the city needs to allocate more funds for parks that do not have the funds to address maintenance issues and create a new system where each city receives funding according to population to ensure all parks are kept clean and accessible.\n",
    "\n",
    "\n",
    "References (include links):\n",
    "- 1) https://www.sdparks.org/content/sdparks/en/AboutUs/Plans/pldo.html\n",
    "- 2) https://www.sdparks.org/content/dam/sdparks/en/pdf/Development/Park%20Lands%20Dedication%20Ordinance.pdf\n",
    "- 3) https://www.ppic.org/publication/the-state-city-fiscal-relationship-in-california/\n",
    "- 4) https://www.sandiego.gov/sites/default/files/legacy/iba/pdf/bpguide.pdf\n",
    "- 5) https://econofact.org/why-does-the-census-matter-for-state-and-local-governments\n",
    "- 6) https://www.sandiego.gov/sites/default/files/legacy/iba/pdf/bpguide.pdf\n",
    "- 7) https://www.sandiego.gov/sites/default/files/dsd_pc-20-018_cchs_and_mcp.pdf\n",
    "- 8) https://www.voiceofsandiego.org/topics/government/if-your-local-park-sucks-this-is-probably-why/"
   ]
  },
  {
   "cell_type": "markdown",
   "metadata": {},
   "source": [
    "# Hypothesis\n"
   ]
  },
  {
   "cell_type": "markdown",
   "metadata": {},
   "source": [
    "I hypothesize that low income cities gain less funding from development impact fees than wealthy cities. Cities that are wealthier tend to attract more tourists, therefore it would not be surprising if they were to charge higher fees because they would demand immediate maintenance to keep their city attractive. As a result, this system creates a lack of equity where parks that are less developed are not receiving the necessary funds. "
   ]
  },
  {
   "cell_type": "markdown",
   "metadata": {},
   "source": [
    "# Data"
   ]
  },
  {
   "cell_type": "markdown",
   "metadata": {},
   "source": [
    "The ideal dataset to answer this research question would include information about the average income, amount of funding from development impact fees, and the overall budget in dollars and percentage for each city. This data can be collected from census data as well as fiscal reports from each city. The data can be organized in rows by city and each column would correspond to the different variables needed. Another essential dataset would be the maintenance reports and citizen thoughts based off a scale of satisfaction for each park. This would be organized by name of each park with columns containing information on location, number of maintenance issues that have been completed, number of maintenances isuses that have been completed and are pending. This data can be collected from city reports and surveys conducted at each park. A helpful dataset would also be from a survey given to parkgoers where information on their city of residence and thoughts on the park based off a satisfaction scale conducted monthly to ensure the community's input is assessed. "
   ]
  },
  {
   "cell_type": "markdown",
   "metadata": {},
   "source": [
    "# Ethics & Privacy"
   ]
  },
  {
   "cell_type": "markdown",
   "metadata": {},
   "source": [
    "The majority of the data needed would come from public reports made avaiable by the local and federal government, therefore there should be no privacy concerns assuming the government has upheld ethics and privacy in their data collection. The only privacy concern would be regarding surveys people take making sure their personal information is kept confidential."
   ]
  }
 ],
 "metadata": {
  "kernelspec": {
   "display_name": "Python 3",
   "language": "python",
   "name": "python3"
  },
  "language_info": {
   "codemirror_mode": {
    "name": "ipython",
    "version": 3
   },
   "file_extension": ".py",
   "mimetype": "text/x-python",
   "name": "python",
   "nbconvert_exporter": "python",
   "pygments_lexer": "ipython3",
   "version": "3.7.6"
  }
 },
 "nbformat": 4,
 "nbformat_minor": 2
}
